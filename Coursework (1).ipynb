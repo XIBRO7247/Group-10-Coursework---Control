{
  "nbformat": 4,
  "nbformat_minor": 0,
  "metadata": {
    "colab": {
      "provenance": []
    },
    "kernelspec": {
      "name": "python3",
      "display_name": "Python 3"
    },
    "language_info": {
      "name": "python"
    }
  },
  "cells": [
    {
      "cell_type": "code",
      "source": [
        "import sympy as sym\n",
        "m,g,delta,k,b,d,phi,c,R, l0,l1,alpha =sym.symbols('m, g, \\delta, k, b, d, \\phi, c, R, L_0, L_1, \\alpha',positive=True)\n",
        "x1e, x2e, x3e, ve = sym.symbols('x_1^e, x_^2e, x_3^e, v^e', real = True)\n",
        "PHIT = 5/(7 * m) * (m*g*sym.sin(phi) + c*(x3e**2)/((delta - x1e)**2) - k*(x1e -d) - b*x2e) \n",
        "diffphi = sym.diff(PHIT,x1e)\n",
        "print(sym.latex(diffphi),'\\n')\n",
        "print(diffphi,'\\n')\n",
        "diffphi2 = sym.diff(PHIT,x2e)\n",
        "print(sym.latex(diffphi2),'\\n')\n",
        "print(diffphi2,'\\n')\n",
        "diffphi3 = sym.diff(PHIT,x3e)\n",
        "print(sym.latex(diffphi3),'\\n')\n",
        "print(diffphi3,'\\n')\n",
        "y = delta - x1e\n",
        "L = l0 + l1 * sym.exp(-alpha*y)\n",
        "psi = (ve - x3e*R) / L\n",
        "diffpsi = sym.diff(psi,x1e)\n",
        "print(sym.latex(diffpsi),'\\n')\n",
        "print(diffpsi,'\\n')\n",
        "diffpsi2 = sym.diff(psi,x3e)\n",
        "print(sym.latex(diffpsi2),'\\n')\n",
        "print(diffpsi2,'\\n')\n",
        "diffpsi3 = sym.diff(phi,ve)\n",
        "print(sym.latex(diffpsi3),'\\n')\n",
        "print(diffpsi3,'\\n')"
      ],
      "metadata": {
        "colab": {
          "base_uri": "https://localhost:8080/"
        },
        "id": "C-mXoNh7ztij",
        "outputId": "fada66fc-c2f0-4afc-e664-b7793a2d5520"
      },
      "execution_count": null,
      "outputs": [
        {
          "output_type": "stream",
          "name": "stdout",
          "text": [
            "- \\frac{5 \\left(- \\frac{2 c \\left(x^{e}_{3}\\right)^{2}}{\\left(\\delta - x^{e}_{1}\\right)^{3}} - k\\right)}{7 m} \n",
            "\n",
            "-5*(-2*c*x_3^e**2/(\\delta - x_1^e)**3 - k)/(7*m) \n",
            "\n",
            "\\frac{5 b}{7 m} \n",
            "\n",
            "5*b/(7*m) \n",
            "\n",
            "\\frac{10 c x^{e}_{3}}{7 m \\left(\\delta - x^{e}_{1}\\right)^{2}} \n",
            "\n",
            "10*c*x_3^e/(7*m*(\\delta - x_1^e)**2) \n",
            "\n",
            "- \\frac{\u0007lpha L_{1} \\left(- R x^{e}_{3} + v^{e}\\right) e^{- \u0007lpha \\left(\\delta - x^{e}_{1}\\right)}}{\\left(L_{0} + L_{1} e^{- \u0007lpha \\left(\\delta - x^{e}_{1}\\right)}\\right)^{2}} \n",
            "\n",
            "-\u0007lpha*L_1*(-R*x_3^e + v^e)*exp(-\u0007lpha*(\\delta - x_1^e))/(L_0 + L_1*exp(-\u0007lpha*(\\delta - x_1^e)))**2 \n",
            "\n",
            "- \\frac{R}{L_{0} + L_{1} e^{- \u0007lpha \\left(\\delta - x^{e}_{1}\\right)}} \n",
            "\n",
            "-R/(L_0 + L_1*exp(-\u0007lpha*(\\delta - x_1^e))) \n",
            "\n",
            "0 \n",
            "\n",
            "0 \n",
            "\n"
          ]
        }
      ]
    },
    {
      "cell_type": "code",
      "source": [],
      "metadata": {
        "id": "rE7BfNCyAPGx"
      },
      "execution_count": null,
      "outputs": []
    },
    {
      "cell_type": "code",
      "source": [
        "import numpy as np\n",
        "from control import TransferFunction, margin\n",
        "from multiprocessing import Pool, cpu_count\n",
        "\n",
        "\n",
        "def compute_pd_values(args):\n",
        "    \"\"\"\n",
        "    Computes the most optimized PID values and all possible PID values within a subrange of the ranges for Kp, Ti, and\n",
        "    Td\n",
        "    \"\"\"\n",
        "    Kp_range, Ti_range, Td_range, G = args\n",
        "    all_pids = []\n",
        "    best_pid = None\n",
        "    best_margin = float('-inf')\n",
        "    for Kp in Kp_range:\n",
        "        for Ti in Ti_range:\n",
        "            for Td in Td_range:\n",
        "                if Kp == 0 and Ti == 0 and Td == 0:\n",
        "                    continue\n",
        "                pid = TransferFunction([Kp * Td * Ti, Kp * Ti, Kp], [Td, 1, 0])\n",
        "                try:\n",
        "                    gm, pm, sm, _ = margin(G * pid)\n",
        "                except:\n",
        "                    continue\n",
        "                if sm > 0 and pm > 0:\n",
        "                    all_pids.append((Kp, Ti, Td, sm))\n",
        "                    if sm > best_margin:\n",
        "                        best_pid = (Kp, Ti, Td, sm)\n",
        "                        best_margin = sm\n",
        "    return (best_pid, all_pids)\n",
        "\n",
        "\n",
        "def find_best_pid(G, kp_range, ti_range, td_range, n_workers=(cpu_count()-2), ram_cap_gb=8):\n",
        "    \"\"\"\n",
        "    Finds the most optimized PID values based on stability margins, using multicore processing and RAM cap\n",
        "    \"\"\"\n",
        "    total_range = len(kp_range) * len(ti_range) * len(td_range)\n",
        "    max_size = int(ram_cap_gb * 1024 * 1024 * 1024 / 8)  # 8 bytes per float\n",
        "    chunk_size = int(max_size / (n_workers * 4))\n",
        "    chunks = [(kp_range, ti_range, td_range[i:i + chunk_size], G) for i in range(0, len(td_range), chunk_size)]\n",
        "    with Pool(n_workers) as pool:\n",
        "        results = pool.map(compute_pd_values, chunks)\n",
        "    all_pids = []\n",
        "    for result in results:\n",
        "        all_pids.extend(result[1])\n",
        "    all_pids.sort(key=lambda x: -x[3])  # Sort by margin, descending\n",
        "    best_pid = None\n",
        "    best_margin = float('-inf')\n",
        "    for result in results:\n",
        "        if result[0] is not None:\n",
        "            pid = result[0]\n",
        "            margin = pid[3]\n",
        "            if margin > best_margin:\n",
        "                best_pid = pid\n",
        "                best_margin = margin\n",
        "    return (best_pid, all_pids)\n",
        "\n",
        "\n",
        "# Define system parameters\n",
        "m = 0.462\n",
        "g = 9.81\n",
        "d = 0.42\n",
        "dirac = 0.65\n",
        "r = 0.123\n",
        "R = 2200\n",
        "lo = 123 * 10 ** -3\n",
        "li = 24.1 * 10 ** -3\n",
        "alpha = 1.2\n",
        "c = 6.811\n",
        "k = 1885\n",
        "b = 10.4\n",
        "phi = 41\n",
        "tm = 0.03\n",
        "\n",
        "#eqquilibrium values:\n",
        "x1e = 0.5\n",
        "x2e = 0\n",
        "x3e = np.sqrt(((-m*g*np.sin(phi) - b*x2e - k(x1e-d))*(dirac - x1e)**2)/c)\n",
        "ve = x3e*R\n",
        "\n",
        "#Reused equations\n",
        "expo = np.exp(-alpha * (dirac - x1e))\n",
        "L = lo + li * expo\n",
        "s = ctrl.TransferFunction.s\n",
        "A = (5/(7*m)) * (-k-(2*c*(x3e** 2)) / ((dirac -(x1e))**3))\n",
        "B = -(5 * b) / (7 * m)\n",
        "C = (10 * c * x3e) / (7 * m * (dirac - x1e) ** 2)\n",
        "D = -(li * alpha * (-R * x3e + ve) * expo) / L ** 2\n",
        "E = R / L\n",
        "F = 1 / L\n",
        "G = (F*C)/((s**2 - A -B*s)*(s-E))\n",
        "\n",
        "if __name__ == '__main__':\n",
        "    kp_range = np.arange(0, 1000, 1)\n",
        "    ti_range = np.arange(0, 1000, 1)\n",
        "    td_range = np.arange(0, 1000, 1)\n",
        "    best_pid, all_pids = find_best_pid(G, kp_range, ti_range, td_range, n_workers=4, ram_cap_gb=8)\n",
        "    print(f\"Best PID: {best_pid}\")\n",
        "    print(f\"All PID values sorted by margin: {all_pids}\")\n"
      ],
      "metadata": {
        "id": "t4mzQAeUk3k4"
      },
      "execution_count": null,
      "outputs": []
    },
    {
      "cell_type": "code",
      "source": [
        "import matplotlib.pyplot as plt\n",
        "import numpy as np\n",
        "import sympy as sp\n",
        "import control as ctrl\n",
        "\n",
        "# Define system parameters\n",
        "m = 0.462\n",
        "g = 9.81\n",
        "d = 0.42\n",
        "dirac = 0.65\n",
        "r = 0.123\n",
        "R = 2200\n",
        "lo = 123 * (10 ** -3)\n",
        "li = 24.1 * (10 ** -3)\n",
        "alpha = 1.2\n",
        "c = 6.811\n",
        "k = 1885\n",
        "b = 10.4\n",
        "phi = 41\n",
        "tm = 0.03\n",
        "\n",
        "#eqquilibrium values:\n",
        "x1e = 0.5\n",
        "x2e = 0\n",
        "x3e = sp.N(sp.N(sp.sqrt(((sp.N(-m*g*sp.sin(phi))- (b*x2e) - (k*(x1e-d)))*(dirac-x1e)**2)/c)))\n",
        "ve = x3e*R\n",
        "print(x3e)\n",
        "print(sp.N(-m*g*sp.sin(phi)))\n",
        "print(sp.N(-m*g*sp.sin(phi))- (b*x2e))\n",
        "print((k*(x1e-d)))\n",
        "print(sp.N(-m*g*sp.sin(phi))- (b*x2e) - (k*(x1e-d)))\n",
        "#Reused equations\n",
        "expo = np.exp(-alpha * (dirac - x1e))\n",
        "L = lo + li * expo\n",
        "s = ctrl.TransferFunction.s\n",
        "A = (5/(7*m)) * (-k-(2*c*(x3e** 2)) / ((dirac -(x1e))**3))\n",
        "B = -(5 * b) / (7 * m)\n",
        "C = (10 * c * x3e) / (7 * m * (dirac - x1e) ** 2)\n",
        "D = -(li * alpha * (-R * x3e + ve) * expo) / L ** 2\n",
        "E = R / L\n",
        "F = 1 / L\n",
        "G = (F*C)/((s**2 - A -B*s)*(s-E))\n",
        "\n",
        "print(A)\n",
        "print(B)\n",
        "print(C)\n",
        "print(D)\n",
        "print(E)\n",
        "print(F)\n",
        "\n"
      ],
      "metadata": {
        "colab": {
          "base_uri": "https://localhost:8080/",
          "height": 528
        },
        "id": "q3FgR4UhtxYB",
        "outputId": "552acab0-0825-4e10-d679-8700a52e283f"
      },
      "execution_count": null,
      "outputs": [
        {
          "output_type": "stream",
          "name": "stdout",
          "text": [
            "0.704123440596659*I\n",
            "0.718912832010078\n",
            "0.718912832010078\n",
            "150.80000000000004\n",
            "-150.081087167990\n"
          ]
        },
        {
          "output_type": "error",
          "ename": "TypeError",
          "evalue": "ignored",
          "traceback": [
            "\u001b[0;31m---------------------------------------------------------------------------\u001b[0m",
            "\u001b[0;31mTypeError\u001b[0m                                 Traceback (most recent call last)",
            "\u001b[0;32m/usr/local/lib/python3.9/dist-packages/control/xferfcn.py\u001b[0m in \u001b[0;36m_convert_to_transfer_function\u001b[0;34m(sys, inputs, outputs)\u001b[0m\n\u001b[1;32m   1443\u001b[0m         \u001b[0mden\u001b[0m \u001b[0;34m=\u001b[0m \u001b[0;34m[\u001b[0m\u001b[0;34m[\u001b[0m\u001b[0;34m[\u001b[0m\u001b[0;36m1\u001b[0m\u001b[0;34m]\u001b[0m \u001b[0;32mfor\u001b[0m \u001b[0mj\u001b[0m \u001b[0;32min\u001b[0m \u001b[0mrange\u001b[0m\u001b[0;34m(\u001b[0m\u001b[0minputs\u001b[0m\u001b[0;34m)\u001b[0m\u001b[0;34m]\u001b[0m \u001b[0;32mfor\u001b[0m \u001b[0mi\u001b[0m \u001b[0;32min\u001b[0m \u001b[0mrange\u001b[0m\u001b[0;34m(\u001b[0m\u001b[0moutputs\u001b[0m\u001b[0;34m)\u001b[0m\u001b[0;34m]\u001b[0m\u001b[0;34m\u001b[0m\u001b[0;34m\u001b[0m\u001b[0m\n\u001b[0;32m-> 1444\u001b[0;31m         \u001b[0;32mreturn\u001b[0m \u001b[0mTransferFunction\u001b[0m\u001b[0;34m(\u001b[0m\u001b[0mnum\u001b[0m\u001b[0;34m,\u001b[0m \u001b[0mden\u001b[0m\u001b[0;34m)\u001b[0m\u001b[0;34m\u001b[0m\u001b[0;34m\u001b[0m\u001b[0m\n\u001b[0m\u001b[1;32m   1445\u001b[0m \u001b[0;34m\u001b[0m\u001b[0m\n",
            "\u001b[0;32m/usr/local/lib/python3.9/dist-packages/control/xferfcn.py\u001b[0m in \u001b[0;36m__init__\u001b[0;34m(self, *args, **kwargs)\u001b[0m\n\u001b[1;32m    194\u001b[0m \u001b[0;34m\u001b[0m\u001b[0m\n\u001b[0;32m--> 195\u001b[0;31m         \u001b[0mnum\u001b[0m \u001b[0;34m=\u001b[0m \u001b[0m_clean_part\u001b[0m\u001b[0;34m(\u001b[0m\u001b[0mnum\u001b[0m\u001b[0;34m)\u001b[0m\u001b[0;34m\u001b[0m\u001b[0;34m\u001b[0m\u001b[0m\n\u001b[0m\u001b[1;32m    196\u001b[0m         \u001b[0mden\u001b[0m \u001b[0;34m=\u001b[0m \u001b[0m_clean_part\u001b[0m\u001b[0;34m(\u001b[0m\u001b[0mden\u001b[0m\u001b[0;34m)\u001b[0m\u001b[0;34m\u001b[0m\u001b[0;34m\u001b[0m\u001b[0m\n",
            "\u001b[0;32m/usr/local/lib/python3.9/dist-packages/control/xferfcn.py\u001b[0m in \u001b[0;36m_clean_part\u001b[0;34m(data)\u001b[0m\n\u001b[1;32m   1777\u001b[0m         \u001b[0;31m# the meaning is.\u001b[0m\u001b[0;34m\u001b[0m\u001b[0;34m\u001b[0m\u001b[0m\n\u001b[0;32m-> 1778\u001b[0;31m         raise TypeError(\n\u001b[0m\u001b[1;32m   1779\u001b[0m             \u001b[0;34m\"The numerator and denominator inputs must be scalars or vectors \"\u001b[0m\u001b[0;34m\u001b[0m\u001b[0;34m\u001b[0m\u001b[0m\n",
            "\u001b[0;31mTypeError\u001b[0m: The numerator and denominator inputs must be scalars or vectors (for\nSISO), or lists of lists of vectors (for SISO or MIMO).",
            "\nDuring handling of the above exception, another exception occurred:\n",
            "\u001b[0;31mTypeError\u001b[0m                                 Traceback (most recent call last)",
            "\u001b[0;32m<ipython-input-28-5a456af8aa74>\u001b[0m in \u001b[0;36m<cell line: 42>\u001b[0;34m()\u001b[0m\n\u001b[1;32m     40\u001b[0m \u001b[0mE\u001b[0m \u001b[0;34m=\u001b[0m \u001b[0mR\u001b[0m \u001b[0;34m/\u001b[0m \u001b[0mL\u001b[0m\u001b[0;34m\u001b[0m\u001b[0;34m\u001b[0m\u001b[0m\n\u001b[1;32m     41\u001b[0m \u001b[0mF\u001b[0m \u001b[0;34m=\u001b[0m \u001b[0;36m1\u001b[0m \u001b[0;34m/\u001b[0m \u001b[0mL\u001b[0m\u001b[0;34m\u001b[0m\u001b[0;34m\u001b[0m\u001b[0m\n\u001b[0;32m---> 42\u001b[0;31m \u001b[0mG\u001b[0m \u001b[0;34m=\u001b[0m \u001b[0;34m(\u001b[0m\u001b[0mF\u001b[0m\u001b[0;34m*\u001b[0m\u001b[0mC\u001b[0m\u001b[0;34m)\u001b[0m\u001b[0;34m/\u001b[0m\u001b[0;34m(\u001b[0m\u001b[0;34m(\u001b[0m\u001b[0ms\u001b[0m\u001b[0;34m**\u001b[0m\u001b[0;36m2\u001b[0m \u001b[0;34m-\u001b[0m \u001b[0mA\u001b[0m \u001b[0;34m-\u001b[0m\u001b[0mB\u001b[0m\u001b[0;34m*\u001b[0m\u001b[0ms\u001b[0m\u001b[0;34m)\u001b[0m\u001b[0;34m*\u001b[0m\u001b[0;34m(\u001b[0m\u001b[0ms\u001b[0m\u001b[0;34m-\u001b[0m\u001b[0mE\u001b[0m\u001b[0;34m)\u001b[0m\u001b[0;34m)\u001b[0m\u001b[0;34m\u001b[0m\u001b[0;34m\u001b[0m\u001b[0m\n\u001b[0m\u001b[1;32m     43\u001b[0m \u001b[0;34m\u001b[0m\u001b[0m\n\u001b[1;32m     44\u001b[0m \u001b[0mprint\u001b[0m\u001b[0;34m(\u001b[0m\u001b[0mA\u001b[0m\u001b[0;34m)\u001b[0m\u001b[0;34m\u001b[0m\u001b[0;34m\u001b[0m\u001b[0m\n",
            "\u001b[0;32m/usr/local/lib/python3.9/dist-packages/control/xferfcn.py\u001b[0m in \u001b[0;36m__sub__\u001b[0;34m(self, other)\u001b[0m\n\u001b[1;32m    582\u001b[0m     \u001b[0;32mdef\u001b[0m \u001b[0m__sub__\u001b[0m\u001b[0;34m(\u001b[0m\u001b[0mself\u001b[0m\u001b[0;34m,\u001b[0m \u001b[0mother\u001b[0m\u001b[0;34m)\u001b[0m\u001b[0;34m:\u001b[0m\u001b[0;34m\u001b[0m\u001b[0;34m\u001b[0m\u001b[0m\n\u001b[1;32m    583\u001b[0m         \u001b[0;34m\"\"\"Subtract two LTI objects.\"\"\"\u001b[0m\u001b[0;34m\u001b[0m\u001b[0;34m\u001b[0m\u001b[0m\n\u001b[0;32m--> 584\u001b[0;31m         \u001b[0;32mreturn\u001b[0m \u001b[0mself\u001b[0m \u001b[0;34m+\u001b[0m \u001b[0;34m(\u001b[0m\u001b[0;34m-\u001b[0m\u001b[0mother\u001b[0m\u001b[0;34m)\u001b[0m\u001b[0;34m\u001b[0m\u001b[0;34m\u001b[0m\u001b[0m\n\u001b[0m\u001b[1;32m    585\u001b[0m \u001b[0;34m\u001b[0m\u001b[0m\n\u001b[1;32m    586\u001b[0m     \u001b[0;32mdef\u001b[0m \u001b[0m__rsub__\u001b[0m\u001b[0;34m(\u001b[0m\u001b[0mself\u001b[0m\u001b[0;34m,\u001b[0m \u001b[0mother\u001b[0m\u001b[0;34m)\u001b[0m\u001b[0;34m:\u001b[0m\u001b[0;34m\u001b[0m\u001b[0;34m\u001b[0m\u001b[0m\n",
            "\u001b[0;32m/usr/local/lib/python3.9/dist-packages/control/xferfcn.py\u001b[0m in \u001b[0;36m__add__\u001b[0;34m(self, other)\u001b[0m\n\u001b[1;32m    549\u001b[0m             \u001b[0mother\u001b[0m \u001b[0;34m=\u001b[0m \u001b[0m_convert_to_transfer_function\u001b[0m\u001b[0;34m(\u001b[0m\u001b[0mother\u001b[0m\u001b[0;34m)\u001b[0m\u001b[0;34m\u001b[0m\u001b[0;34m\u001b[0m\u001b[0m\n\u001b[1;32m    550\u001b[0m         \u001b[0;32melif\u001b[0m \u001b[0;32mnot\u001b[0m \u001b[0misinstance\u001b[0m\u001b[0;34m(\u001b[0m\u001b[0mother\u001b[0m\u001b[0;34m,\u001b[0m \u001b[0mTransferFunction\u001b[0m\u001b[0;34m)\u001b[0m\u001b[0;34m:\u001b[0m\u001b[0;34m\u001b[0m\u001b[0;34m\u001b[0m\u001b[0m\n\u001b[0;32m--> 551\u001b[0;31m             other = _convert_to_transfer_function(other, inputs=self.ninputs,\n\u001b[0m\u001b[1;32m    552\u001b[0m                                                   outputs=self.noutputs)\n\u001b[1;32m    553\u001b[0m \u001b[0;34m\u001b[0m\u001b[0m\n",
            "\u001b[0;32m/usr/local/lib/python3.9/dist-packages/control/xferfcn.py\u001b[0m in \u001b[0;36m_convert_to_transfer_function\u001b[0;34m(sys, inputs, outputs)\u001b[0m\n\u001b[1;32m   1445\u001b[0m \u001b[0;34m\u001b[0m\u001b[0m\n\u001b[1;32m   1446\u001b[0m     \u001b[0;32mexcept\u001b[0m \u001b[0mException\u001b[0m\u001b[0;34m:\u001b[0m\u001b[0;34m\u001b[0m\u001b[0;34m\u001b[0m\u001b[0m\n\u001b[0;32m-> 1447\u001b[0;31m         \u001b[0;32mraise\u001b[0m \u001b[0mTypeError\u001b[0m\u001b[0;34m(\u001b[0m\u001b[0;34m\"Can't convert given type to TransferFunction system.\"\u001b[0m\u001b[0;34m)\u001b[0m\u001b[0;34m\u001b[0m\u001b[0;34m\u001b[0m\u001b[0m\n\u001b[0m\u001b[1;32m   1448\u001b[0m \u001b[0;34m\u001b[0m\u001b[0m\n\u001b[1;32m   1449\u001b[0m \u001b[0;34m\u001b[0m\u001b[0m\n",
            "\u001b[0;31mTypeError\u001b[0m: Can't convert given type to TransferFunction system."
          ]
        }
      ]
    },
    {
      "cell_type": "code",
      "source": [
        "!pip install control"
      ],
      "metadata": {
        "colab": {
          "base_uri": "https://localhost:8080/"
        },
        "id": "JBWxBqzQuh0E",
        "outputId": "90df43bb-12dd-4b13-fda3-a09a1bc80714"
      },
      "execution_count": null,
      "outputs": [
        {
          "output_type": "stream",
          "name": "stdout",
          "text": [
            "Looking in indexes: https://pypi.org/simple, https://us-python.pkg.dev/colab-wheels/public/simple/\n",
            "Collecting control\n",
            "  Downloading control-0.9.3.post2-py3-none-any.whl (432 kB)\n",
            "\u001b[2K     \u001b[90m━━━━━━━━━━━━━━━━━━━━━━━━━━━━━━━━━━━━━━━\u001b[0m \u001b[32m432.8/432.8 kB\u001b[0m \u001b[31m6.1 MB/s\u001b[0m eta \u001b[36m0:00:00\u001b[0m\n",
            "\u001b[?25hRequirement already satisfied: matplotlib in /usr/local/lib/python3.9/dist-packages (from control) (3.7.1)\n",
            "Requirement already satisfied: numpy in /usr/local/lib/python3.9/dist-packages (from control) (1.22.4)\n",
            "Requirement already satisfied: scipy>=1.3 in /usr/local/lib/python3.9/dist-packages (from control) (1.10.1)\n",
            "Requirement already satisfied: python-dateutil>=2.7 in /usr/local/lib/python3.9/dist-packages (from matplotlib->control) (2.8.2)\n",
            "Requirement already satisfied: cycler>=0.10 in /usr/local/lib/python3.9/dist-packages (from matplotlib->control) (0.11.0)\n",
            "Requirement already satisfied: contourpy>=1.0.1 in /usr/local/lib/python3.9/dist-packages (from matplotlib->control) (1.0.7)\n",
            "Requirement already satisfied: fonttools>=4.22.0 in /usr/local/lib/python3.9/dist-packages (from matplotlib->control) (4.39.3)\n",
            "Requirement already satisfied: kiwisolver>=1.0.1 in /usr/local/lib/python3.9/dist-packages (from matplotlib->control) (1.4.4)\n",
            "Requirement already satisfied: packaging>=20.0 in /usr/local/lib/python3.9/dist-packages (from matplotlib->control) (23.0)\n",
            "Requirement already satisfied: importlib-resources>=3.2.0 in /usr/local/lib/python3.9/dist-packages (from matplotlib->control) (5.12.0)\n",
            "Requirement already satisfied: pillow>=6.2.0 in /usr/local/lib/python3.9/dist-packages (from matplotlib->control) (8.4.0)\n",
            "Requirement already satisfied: pyparsing>=2.3.1 in /usr/local/lib/python3.9/dist-packages (from matplotlib->control) (3.0.9)\n",
            "Requirement already satisfied: zipp>=3.1.0 in /usr/local/lib/python3.9/dist-packages (from importlib-resources>=3.2.0->matplotlib->control) (3.15.0)\n",
            "Requirement already satisfied: six>=1.5 in /usr/local/lib/python3.9/dist-packages (from python-dateutil>=2.7->matplotlib->control) (1.16.0)\n",
            "Installing collected packages: control\n",
            "Successfully installed control-0.9.3.post2\n"
          ]
        }
      ]
    }
  ]
}